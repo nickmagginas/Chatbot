{
 "cells": [
  {
   "cell_type": "markdown",
   "metadata": {},
   "source": [
    "## Sequence to Sequence Models for Convertational Agents\n",
    "\n",
    "Implementation of encoder decoder architechtures in Python3 with Pytorch"
   ]
  },
  {
   "cell_type": "markdown",
   "metadata": {},
   "source": [
    "### Reading the data\n",
    "Dataset MetaLWoz: "
   ]
  },
  {
   "cell_type": "code",
   "execution_count": 1,
   "metadata": {},
   "outputs": [],
   "source": [
    "import json\n",
    "import string"
   ]
  },
  {
   "cell_type": "code",
   "execution_count": 2,
   "metadata": {},
   "outputs": [],
   "source": [
    "### Maximum and Minimum Sentence length\n",
    "MIN_LENGTH = 3\n",
    "MAX_LENGTH = 13"
   ]
  },
  {
   "cell_type": "code",
   "execution_count": 3,
   "metadata": {},
   "outputs": [],
   "source": [
    "### Utility for flattening iterables\n",
    "FLATTEN = lambda l: [i for e in l for i in e]"
   ]
  },
  {
   "cell_type": "code",
   "execution_count": 4,
   "metadata": {},
   "outputs": [],
   "source": [
    "### JSON Parse and prepend greeting\n",
    "def read_file(filename):\n",
    "    return [['Hi Mr Robot'] + json.loads(line)['turns'] for line in open(filename, 'r')]"
   ]
  },
  {
   "cell_type": "code",
   "execution_count": 5,
   "metadata": {
    "scrolled": true
   },
   "outputs": [],
   "source": [
    "### Data is ordered in dialogues creates pairs from a single dialogue\n",
    "def create_pairs_from_dialogue(dialogue):\n",
    "    return [(dialogue[2 * i], dialogue[2 * i + 1]) for i in range(len(dialogue) // 2)]"
   ]
  },
  {
   "cell_type": "code",
   "execution_count": 6,
   "metadata": {},
   "outputs": [],
   "source": [
    "### Wrapper to previous function to create all pairs\n",
    "def create_pairs(dialogues):\n",
    "    return FLATTEN(map(create_pairs_from_dialogue, dialogues))"
   ]
  },
  {
   "cell_type": "code",
   "execution_count": 7,
   "metadata": {},
   "outputs": [],
   "source": [
    "### Apply length constraints\n",
    "def filter_pairs(pairs):\n",
    "    length_constraints = lambda s: MIN_LENGTH <= len(s.split()) <= MAX_LENGTH\n",
    "    filter_pair = lambda p: all(length_constraints(s) for s in p)\n",
    "    return [*filter(filter_pair, pairs)]"
   ]
  },
  {
   "cell_type": "code",
   "execution_count": 8,
   "metadata": {},
   "outputs": [],
   "source": [
    "### Remove punctuation and convert to lowercase\n",
    "def normalize_sentence(sentence):\n",
    "    return sentence.translate({ord(i): None for i in string.punctuation}).lower()\n",
    "\n",
    "### Wrapper for normalize_sentence\n",
    "def normalize_pairs(pairs):\n",
    "    return [*map(lambda p: tuple(map(normalize_sentence, p)), pairs)]"
   ]
  },
  {
   "cell_type": "code",
   "execution_count": 9,
   "metadata": {},
   "outputs": [],
   "source": [
    "### Create a dictionary of all unique words and SOS and EOS tokens\n",
    "def create_dictionary(pairs):\n",
    "    all_words = FLATTEN([q.split() + a.split() for q, a in pairs])\n",
    "    unique_words = set(all_words)\n",
    "    dictionary = {key: value + 2 for value, key in enumerate(unique_words)}\n",
    "    return {**{'SOS': 0, 'EOS': 1}, **dictionary}"
   ]
  },
  {
   "cell_type": "code",
   "execution_count": 10,
   "metadata": {},
   "outputs": [],
   "source": [
    "### Encodes sentence from dictionary\n",
    "def encode_sentence(s, dictionary):\n",
    "    return [dictionary[word] for word in s.split()]\n",
    "\n",
    "### Wrapper for encode_sentence\n",
    "def encode_pairs(pairs, dictionary):\n",
    "    return [*map(lambda p: tuple(map(lambda s: encode_sentence(s, dictionary), p)), pairs)]"
   ]
  },
  {
   "cell_type": "code",
   "execution_count": 11,
   "metadata": {},
   "outputs": [],
   "source": [
    "def process_pairs(filename):\n",
    "    dialogues = read_file(filename)\n",
    "    pairs = create_pairs(dialogues)\n",
    "    filtered_pairs = filter_pairs(pairs)\n",
    "    normalized_pairs = normalize_pairs(filtered_pairs)\n",
    "    return normalized_pairs\n",
    "\n",
    "def create_dictionary_encode(pairs):\n",
    "    dictionary = create_dictionary(pairs)\n",
    "    encoded_pairs = encode_pairs(pairs, dictionary)\n",
    "    append_EOS = lambda p: (p[0], p[1] + [1])\n",
    "    return [*map(append_EOS, encoded_pairs)], dictionary\n",
    "    "
   ]
  },
  {
   "cell_type": "code",
   "execution_count": 12,
   "metadata": {},
   "outputs": [],
   "source": [
    "### Helper Function\n",
    "def reverse_dictionary(dictionary):\n",
    "    return {value: key for key, value in dictionary.items()}\n",
    "\n",
    "def decode_sentence(s, dictionary):\n",
    "    return [dictionary[w] for w in s]"
   ]
  },
  {
   "cell_type": "markdown",
   "metadata": {},
   "source": [
    "### Building Encoders and Decoders\n"
   ]
  },
  {
   "cell_type": "code",
   "execution_count": 13,
   "metadata": {},
   "outputs": [],
   "source": [
    "import torch"
   ]
  },
  {
   "cell_type": "markdown",
   "metadata": {},
   "source": [
    "This encoder architechture includes an embedding layer to tranform words to a constant size vector. Otherwise, we would have to process words an one hot vectors of size equal to the size of the vocabulary which would be sparse and challenging to learn from.\n",
    "\n",
    "Documentation for layer used here: https://pytorch.org/docs/stable/nn.html"
   ]
  },
  {
   "cell_type": "code",
   "execution_count": 14,
   "metadata": {},
   "outputs": [],
   "source": [
    "class Encoder(torch.nn.Module):\n",
    "    def __init__(self, input_size, hidden_size):\n",
    "        super(Encoder, self).__init__()\n",
    "        self.embedding = torch.nn.Embedding(input_size, hidden_size)\n",
    "        self.gru = torch.nn.GRU(hidden_size, hidden_size)\n",
    "    \n",
    "    def forward(self, x, s):\n",
    "        embedded = self.embedding(x)\n",
    "        return self.gru(embedded, s)\n",
    "    \n",
    "    def __init_hidden__(self, hidden_size): return torch.zeros(1, hidden_size)"
   ]
  },
  {
   "cell_type": "markdown",
   "metadata": {},
   "source": [
    "The decoder has a similar architechture to the encoder but since output do matter in this case we map the hidden state to a vector of size equal to the vocabulary size with a linear layer which would give us a word at each decoding time step"
   ]
  },
  {
   "cell_type": "code",
   "execution_count": 15,
   "metadata": {},
   "outputs": [],
   "source": [
    "class Decoder(torch.nn.Module):\n",
    "    def __init__(self, output_size, hidden_size):\n",
    "        super(Decoder, self).__init__()\n",
    "        self.embedding = torch.nn.Embedding(output_size, hidden_size)\n",
    "        self.gru = torch.nn.GRU(hidden_size, hidden_size)\n",
    "        self.fc = torch.nn.Linear(hidden_size, output_size)\n",
    "        self.softmax = torch.nn.LogSoftmax(dim = 2)\n",
    "    \n",
    "    def forward(self, x, s):\n",
    "        embedded = self.embedding(x)\n",
    "        _ , hidden_state = self.gru(embedded, s)\n",
    "        output = self.fc(hidden_state)\n",
    "        return self.softmax(output), hidden_state"
   ]
  },
  {
   "cell_type": "markdown",
   "metadata": {},
   "source": [
    "### Training\n",
    "Two approaches to training. The first one is the slower but more easy to conceptualize than the second so we will start with the former."
   ]
  },
  {
   "cell_type": "code",
   "execution_count": 16,
   "metadata": {},
   "outputs": [],
   "source": [
    "HIDDEN_SIZE = 512\n",
    "LEARNING_RATE = 0.01\n",
    "DEVICE = torch.device('cuda' if torch.cuda.is_available() else 'cpu')"
   ]
  },
  {
   "cell_type": "code",
   "execution_count": 17,
   "metadata": {},
   "outputs": [],
   "source": [
    "### Recursivelly propagate encoder\n",
    "def propagate_encoder(encoder, question, state):\n",
    "    try: encoder_input = next(question).view(1, 1)\n",
    "    except StopIteration: return state\n",
    "    _ , encoder_state = encoder(encoder_input, state)\n",
    "    return propagate_encoder(encoder, question, encoder_state)"
   ]
  },
  {
   "cell_type": "markdown",
   "metadata": {},
   "source": [
    "#### Encoder Demonstration\n",
    "Initialize encoder create an iterable from the question initialize state and propagate to get final encoder state"
   ]
  },
  {
   "cell_type": "code",
   "execution_count": 25,
   "metadata": {},
   "outputs": [],
   "source": [
    "def test_encoder():\n",
    "    unencoded_pairs = process_pairs('data/dialogues/AGREEMENT_BOT.txt')\n",
    "    pairs, dictionary = create_dictionary_encode(unencoded_pairs)\n",
    "    encoder = Encoder(dictionary.__len__(), HIDDEN_SIZE)\n",
    "    question = iter(torch.tensor(pairs[0][0], dtype = torch.long))\n",
    "    initial_hidden_state = encoder.__init_hidden__(HIDDEN_SIZE).repeat(1, 1, 1)\n",
    "    encoding = propagate_encoder(encoder, question, initial_hidden_state)\n",
    "    assert encoding.shape == (1, 1, 512)\n",
    "    return encoding"
   ]
  },
  {
   "cell_type": "code",
   "execution_count": 26,
   "metadata": {},
   "outputs": [],
   "source": [
    "encoding = test_encoder()"
   ]
  },
  {
   "cell_type": "code",
   "execution_count": 22,
   "metadata": {},
   "outputs": [],
   "source": [
    "### Propagate Decoder to get loss\n",
    "def propagate_decoder(decoder, answer, decoder_input, decoder_state, loss_function, loss = 0):\n",
    "    try: target = next(answer).view(1)\n",
    "    except StopIteration: return loss\n",
    "    decoder_prediction, state = decoder(decoder_input, decoder_state)\n",
    "    sample_loss = loss_function(decoder_prediction.squeeze(0), target)\n",
    "    output = torch.argmax(decoder_prediction, dim = 2).detach()\n",
    "    if output.item() == 1: return loss\n",
    "    return propagate_decoder(decoder, answer, output, state, loss_function, loss + sample_loss)"
   ]
  },
  {
   "cell_type": "code",
   "execution_count": 28,
   "metadata": {},
   "outputs": [],
   "source": [
    "def test_decoder(encoding):\n",
    "    unencoded_pairs = process_pairs('data/dialogues/AGREEMENT_BOT.txt')\n",
    "    pairs, dictionary = create_dictionary_encode(unencoded_pairs)\n",
    "    decoder = Decoder(dictionary.__len__(), HIDDEN_SIZE)\n",
    "    answer = iter(torch.tensor(pairs[0][1], dtype = torch.long))\n",
    "    initial_decoder_token = torch.tensor([[0]])\n",
    "    loss_function = torch.nn.NLLLoss()\n",
    "    loss = propagate_decoder(decoder, answer, initial_decoder_token, encoding, loss_function)\n",
    "    try: loss.backward()\n",
    "    except: print('Failure')"
   ]
  },
  {
   "cell_type": "code",
   "execution_count": 29,
   "metadata": {},
   "outputs": [],
   "source": [
    "test_decoder(encoding)"
   ]
  },
  {
   "cell_type": "markdown",
   "metadata": {},
   "source": [
    "#### Training Update"
   ]
  },
  {
   "cell_type": "code",
   "execution_count": 30,
   "metadata": {},
   "outputs": [],
   "source": [
    "def train_update(loss, encoder_optimizer, decoder_optimizer):\n",
    "    encoder_optimizer.zero_grad()\n",
    "    decoder_optimizer.zero_grad()\n",
    "    loss.backward()\n",
    "    encoder_optimizer.step() \n",
    "    decoder_optimizer.step()"
   ]
  },
  {
   "cell_type": "code",
   "execution_count": 31,
   "metadata": {},
   "outputs": [],
   "source": [
    "def single_training_pass(encoder, decoder, pairs, criterion, encoder_optim , decoder_optim):\n",
    "    iteration_loss = 0\n",
    "    for (question, answer) in pairs:\n",
    "        question = iter(torch.tensor(question, dtype = torch.long, device = DEVICE)) \n",
    "        initial_hidden_state = encoder.__init_hidden__(HIDDEN_SIZE).repeat(1, 1, 1).to(DEVICE)\n",
    "        encoding = propagate_encoder(encoder, question, initial_hidden_state)\n",
    "        answer = iter(torch.tensor(answer, dtype = torch.long, device = DEVICE))\n",
    "        initial_decoder_token = torch.tensor([[0]], device = DEVICE)\n",
    "        loss = propagate_decoder(decoder, answer, initial_decoder_token, encoding, criterion)\n",
    "        if loss != 0: train_update(loss, encoder_optim, decoder_optim)\n",
    "        iteration_loss += loss.item()\n",
    "    return iteration_loss"
   ]
  },
  {
   "cell_type": "code",
   "execution_count": 36,
   "metadata": {},
   "outputs": [],
   "source": [
    "def train_test(iterations):\n",
    "    unencoded_pairs = process_pairs('data/dialogues/AGREEMENT_BOT.txt')\n",
    "    pairs, dictionary = create_dictionary_encode(unencoded_pairs)\n",
    "    loss_function = torch.nn.NLLLoss()\n",
    "    encoder = Encoder(dictionary.__len__(), HIDDEN_SIZE)\n",
    "    decoder = Decoder(dictionary.__len__(), HIDDEN_SIZE)\n",
    "    encoder = encoder.to(DEVICE)\n",
    "    decoder = decoder.to(DEVICE)\n",
    "    encoder_optimizer = torch.optim.SGD(encoder.parameters(), lr = LEARNING_RATE)\n",
    "    decoder_optimizer = torch.optim.SGD(decoder.parameters(), lr = LEARNING_RATE)\n",
    "    optimizers = (encoder_optimizer, decoder_optimizer)\n",
    "    for iteration in range(iterations):\n",
    "        loss = single_training_pass(encoder, decoder, pairs, loss_function, *optimizers)\n",
    "        print(f'Iteration: {iteration}. Loss: {loss}')\n",
    "    return encoder, decoder"
   ]
  },
  {
   "cell_type": "code",
   "execution_count": 37,
   "metadata": {},
   "outputs": [
    {
     "name": "stdout",
     "output_type": "stream",
     "text": [
      "Iteration: 0. Loss: 22486.699201107025\n"
     ]
    },
    {
     "data": {
      "text/plain": [
       "(Encoder(\n",
       "   (embedding): Embedding(1906, 512)\n",
       "   (gru): GRU(512, 512)\n",
       " ), Decoder(\n",
       "   (embedding): Embedding(1906, 512)\n",
       "   (gru): GRU(512, 512)\n",
       "   (fc): Linear(in_features=512, out_features=1906, bias=True)\n",
       "   (softmax): LogSoftmax()\n",
       " ))"
      ]
     },
     "execution_count": 37,
     "metadata": {},
     "output_type": "execute_result"
    }
   ],
   "source": [
    "train_test(1)"
   ]
  },
  {
   "cell_type": "code",
   "execution_count": 38,
   "metadata": {},
   "outputs": [],
   "source": [
    "def save_models(encoder, decoder, encoder_filename, decoder_filename):\n",
    "    torch.save(encoder.state_dict(), encoder_filename)\n",
    "    torch.save(decoder.state_dict(), decoder_filename)"
   ]
  },
  {
   "cell_type": "code",
   "execution_count": 39,
   "metadata": {},
   "outputs": [],
   "source": [
    "def evaluation_loop(encoder, decoder, dictionary):\n",
    "    rev = reverse_dictionary(dictionary)\n",
    "    while True:\n",
    "        question = normalize_sentence(input('Q:'))\n",
    "        try: encoded_question = encode_sentence(question, dictionary)\n",
    "        except: \n",
    "            print('I have not seen one of these words before')\n",
    "            continue\n",
    "        query = iter(torch.tensor(encoded_question, dtype = torch.long))\n",
    "        encoder_state = encoder.__init_hidden__(HIDDEN_SIZE).repeat(1, 1, 1)\n",
    "        encoding = propagate_encoder(encoder, query, encoder_state)\n",
    "        decoder_input = torch.tensor([[0]])\n",
    "        decoder_state = encoding\n",
    "        final_decoding = []\n",
    "        while decoder_input.item() != 1:\n",
    "            decoder_output, decoder_state = decoder(decoder_input, decoder_state)\n",
    "            decoder_input = torch.argmax(decoder_output, dim = 2)\n",
    "            final_decoding += [decoder_input.item()]\n",
    "        print(decode_sentence(final_decoding, rev))"
   ]
  },
  {
   "cell_type": "markdown",
   "metadata": {},
   "source": [
    "#### Parallel Training\n",
    "This process is very slow and realizing how to parallelize this process in crucial. This is the tutorial from pytorch for sequence to sequence models https://pytorch.org/tutorials/intermediate/seq2seq_translation_tutorial.html and offers no parallelization. Most importantly propagation though the encoder and decoder are done manually. If we refer back to the docs we can see than torch.nn.gru can take a whole sequence and automatically propagates state. Therefore propagate_encoder(encoder, question, initial_state) is equivelant to encoder(question, initial_state). Same applies to the decoder. Further we have been using a batch size of one which does not allow for almost any paralelization. It is impossible to parallelize pairs with different dimensions but we can do it ones with the same ones."
   ]
  },
  {
   "cell_type": "code",
   "execution_count": 40,
   "metadata": {},
   "outputs": [],
   "source": [
    "pair_dimensions = lambda q, a: (len(q), len(a))\n",
    "def get_parallel_pairs(pairs):\n",
    "    dimension_range = range(MIN_LENGTH, MAX_LENGTH + 1)\n",
    "    for dimension in [(ql, al) for ql in dimension_range for al in dimension_range]:\n",
    "        yield [*filter(lambda p: pair_dimensions(*p) == dimension, pairs)]"
   ]
  },
  {
   "cell_type": "markdown",
   "metadata": {},
   "source": [
    "This function is the key to this approach. It takes any dimensions which the pair could take and returns all pairs with exactly that dimension. We need to rewrite the functions which propagate encoder and decoder"
   ]
  },
  {
   "cell_type": "code",
   "execution_count": 41,
   "metadata": {},
   "outputs": [],
   "source": [
    "transpose = lambda t: torch.transpose(t, 0, 1)\n",
    "\n",
    "def propagate_encoder(encoder, questions, sequence_size):\n",
    "    questions = transpose(torch.tensor(questions, dtype = torch.long))\n",
    "    initial_encoder_state = encoder.__init_hidden__(HIDDEN_SIZE).repeat(1, sequence_size, 1)\n",
    "    return encoder(questions, initial_encoder_state)\n",
    "\n",
    "def propagate_decoder(decoder, answers, decoder_input, decoder_state, loss_function, loss = 0):\n",
    "    try: target = next(answers)\n",
    "    except StopIteration: return loss\n",
    "    decoder_predictions, state = decoder(decoder_input, decoder_state)\n",
    "    sample_loss = loss_function(decoder_predictions.squeeze(0), target)\n",
    "    output = torch.argmax(decoder_predictions, dim = 2).detach()\n",
    "    return propagate_decoder(decoder, answers, output, state, loss_function, loss + sample_loss)"
   ]
  },
  {
   "cell_type": "code",
   "execution_count": 47,
   "metadata": {},
   "outputs": [],
   "source": [
    "def parallel_training(encoder, decoder, pairs, encoder_optim, decoder_optim, loss_function):\n",
    "    iteration_loss = 0\n",
    "    for parallel_pairs in get_parallel_pairs(pairs):\n",
    "        if parallel_pairs == []: continue\n",
    "        sequence_size = len(parallel_pairs)\n",
    "        questions, answers = tuple(map(list, zip(*parallel_pairs)))\n",
    "        encoder_outputs, encoder_state = propagate_encoder(encoder, questions, sequence_size)\n",
    "        decoder_input_tokens = torch.tensor([[0]], dtype = torch.long).repeat(1, sequence_size)\n",
    "        decoder_answers = iter(transpose(torch.tensor(answers, dtype = torch.long)))\n",
    "        decoder_args = decoder, decoder_answers, decoder_input_tokens, encoder_state \n",
    "        loss = propagate_decoder(*decoder_args, loss_function)\n",
    "        train_update(loss, encoder_optim, decoder_optim)\n",
    "        iteration_loss += loss.item()\n",
    "    return iteration_loss"
   ]
  },
  {
   "cell_type": "code",
   "execution_count": 50,
   "metadata": {},
   "outputs": [],
   "source": [
    "def parallel_test(iterations):\n",
    "    unencoded_pairs = process_pairs('data/dialogues/AGREEMENT_BOT.txt')\n",
    "    pairs, dictionary = create_dictionary_encode(unencoded_pairs)\n",
    "    encoder = Encoder(dictionary.__len__(), HIDDEN_SIZE)\n",
    "    decoder = Decoder(dictionary.__len__(), HIDDEN_SIZE)\n",
    "    encoder_optimizer = torch.optim.SGD(encoder.parameters(), lr = LEARNING_RATE)\n",
    "    decoder_optimizer = torch.optim.SGD(decoder.parameters(), lr = LEARNING_RATE)\n",
    "    loss_function = torch.nn.NLLLoss()\n",
    "    training_args = encoder, decoder, pairs, encoder_optimizer, decoder_optimizer, loss_function\n",
    "    for i in range(iterations):\n",
    "        loss = parallel_training(*training_args)\n",
    "        print(f'Iteration: {i}. Loss: {loss}')\n",
    "    return encoder, decoder\n"
   ]
  },
  {
   "cell_type": "code",
   "execution_count": 51,
   "metadata": {},
   "outputs": [
    {
     "name": "stdout",
     "output_type": "stream",
     "text": [
      "Iteration: 0. Loss: 5310.17947769165\n"
     ]
    },
    {
     "data": {
      "text/plain": [
       "(Encoder(\n",
       "   (embedding): Embedding(1906, 512)\n",
       "   (gru): GRU(512, 512)\n",
       " ), Decoder(\n",
       "   (embedding): Embedding(1906, 512)\n",
       "   (gru): GRU(512, 512)\n",
       "   (fc): Linear(in_features=512, out_features=1906, bias=True)\n",
       "   (softmax): LogSoftmax()\n",
       " ))"
      ]
     },
     "execution_count": 51,
     "metadata": {},
     "output_type": "execute_result"
    }
   ],
   "source": [
    "parallel_test(1)"
   ]
  },
  {
   "cell_type": "code",
   "execution_count": 52,
   "metadata": {},
   "outputs": [],
   "source": [
    "def parallel_evaluation_loop(encoder, decoder, dictionary):\n",
    "    rev = reverse_dictionary(dictionary)\n",
    "    while True:\n",
    "        question = normalize_sentence(input('Q:'))\n",
    "        if question == 'quit': return\n",
    "        try: encoded_question = [encode_sentence(question, dictionary)]\n",
    "        except: \n",
    "            print('I have not seen one of these words before')\n",
    "            continue\n",
    "        encoder_state = encoder.__init_hidden__(HIDDEN_SIZE).repeat(1, 1, 1)\n",
    "        _, encoding = propagate_encoder(encoder, encoded_question, 1)\n",
    "        decoder_input = torch.tensor([[0]])\n",
    "        decoder_state = encoding\n",
    "        final_decoding = []\n",
    "        while decoder_input.item() != 1:\n",
    "            decoder_output, decoder_state = decoder(decoder_input, decoder_state)\n",
    "            decoder_input = torch.argmax(decoder_output, dim = 2)\n",
    "            final_decoding += [decoder_input.item()] "
   ]
  },
  {
   "cell_type": "markdown",
   "metadata": {},
   "source": [
    "#### Attention\n",
    "We can add an attention mechanism to our decoder to better model long term dependencies. However, this is unkikely to boost performance significantly since there are no long term dependencies since sequences here are kept short\n"
   ]
  },
  {
   "cell_type": "code",
   "execution_count": 53,
   "metadata": {},
   "outputs": [],
   "source": [
    "class AttentionDecoder(torch.nn.Module): \n",
    "    def __init__(self, output_size, hidden_size):\n",
    "        super(AttentionDecoder, self).__init__()\n",
    "        self.embedding = torch.nn.Embedding(output_size, hidden_size)\n",
    "        self.attention = torch.nn.Linear(2 * hidden_size, MAX_LENGTH)\n",
    "        self.gru = torch.nn.GRU(2 * hidden_size, hidden_size)\n",
    "        self.fc = torch.nn.Linear(hidden_size, output_size)\n",
    "        self.att_softmax = torch.nn.Softmax(dim = 2)\n",
    "        self.softmax = torch.nn.LogSoftmax(dim = 2)\n",
    "        \n",
    "    def forward(self, x, s, encoder_outputs):\n",
    "        (encoder_length, batch_size, _) = encoder_outputs.shape\n",
    "        embedded = self.embedding(x)\n",
    "        attention_input = torch.cat((embedded, s), dim = 2)\n",
    "        attention_w = self.attention(attention_input)\n",
    "        attention_coefficient = self.att_softmax(attention_w).view(MAX_LENGTH, batch_size, 1)\n",
    "        extended_outputs = torch.zeros(MAX_LENGTH, batch_size, HIDDEN_SIZE)\n",
    "        extended_outputs[:encoder_length] = encoder_outputs\n",
    "        encoder_attention = torch.mul(attention_coefficient, extended_outputs)\n",
    "        collapsed_attention = torch.sum(encoder_attention, dim = 0)\n",
    "        decoder_input = torch.cat((collapsed_attention.repeat(1, 1, 1), embedded), dim = 2)\n",
    "        _, decoder_hidden = self.gru(decoder_input, s)\n",
    "        output = self.fc(decoder_hidden)\n",
    "        return self.softmax(output), decoder_hidden\n",
    "           \n",
    "        "
   ]
  },
  {
   "cell_type": "markdown",
   "metadata": {},
   "source": [
    "We have to slightly change our functions to handle the extra decoder input"
   ]
  },
  {
   "cell_type": "code",
   "execution_count": 54,
   "metadata": {},
   "outputs": [],
   "source": [
    "def prop_adec(decoder, answers, decoder_input, decoder_state, loss_function, outputs, loss = 0):\n",
    "    try: target = next(answers)\n",
    "    except StopIteration: return loss\n",
    "    decoder_predictions, state = decoder(decoder_input, decoder_state, outputs)\n",
    "    sample_loss = loss_function(decoder_predictions.squeeze(0), target)\n",
    "    output = torch.argmax(decoder_predictions, dim = 2).detach()\n",
    "    return prop_adec(decoder, answers, output, state, loss_function, outputs, loss + sample_loss)\n"
   ]
  },
  {
   "cell_type": "code",
   "execution_count": 73,
   "metadata": {},
   "outputs": [],
   "source": [
    "def parallel_at_training(encoder, decoder, pairs, encoder_optim, decoder_optim, loss_function):\n",
    "    iteration_loss = 0\n",
    "    for parallel_pairs in get_parallel_pairs(pairs):\n",
    "        if parallel_pairs == []: continue\n",
    "        sequence_size = len(parallel_pairs)\n",
    "        questions, answers = tuple(map(list, zip(*parallel_pairs)))\n",
    "        encoder_outputs, encoder_state = propagate_encoder(encoder, questions, sequence_size)\n",
    "        decoder_input_tokens = torch.tensor([[0]], dtype = torch.long).repeat(1, sequence_size)\n",
    "        decoder_answers = iter(transpose(torch.tensor(answers, dtype = torch.long)))\n",
    "        decoder_args = decoder, decoder_answers, decoder_input_tokens, encoder_state \n",
    "        loss = prop_adec(*decoder_args, loss_function, encoder_outputs)\n",
    "        train_update(loss, encoder_optim, decoder_optim)\n",
    "        iteration_loss += loss.item()\n",
    "    return iteration_loss"
   ]
  },
  {
   "cell_type": "code",
   "execution_count": 71,
   "metadata": {},
   "outputs": [],
   "source": [
    "def train_attention_parallel(iterations, encoder, decoder, pairs, e_optim, d_optim, loss_f):\n",
    "    g_loss = []\n",
    "    training_args = encoder, decoder, pairs, e_optim, d_optim, loss_f\n",
    "    for i in range(iterations):\n",
    "        loss = parallel_at_training(*training_args)\n",
    "        print(f'Iteration {i}, Loss: {loss}')\n",
    "        g_loss += [loss]\n",
    "    return g_loss"
   ]
  },
  {
   "cell_type": "markdown",
   "metadata": {},
   "source": [
    "We also have to change our evaluation loop slightly."
   ]
  },
  {
   "cell_type": "code",
   "execution_count": 62,
   "metadata": {},
   "outputs": [],
   "source": [
    "def parallel_evaluation_loop(encoder, decoder, dictionary):\n",
    "    rev = reverse_dictionary(dictionary)\n",
    "    while True:\n",
    "        question = normalize_sentence(input('Q:'))\n",
    "        if question == 'quit': return\n",
    "        try: encoded_question = [encode_sentence(question, dictionary)]\n",
    "        except: \n",
    "            print('I have not seen one of these words before')\n",
    "            continue\n",
    "        encoder_state = encoder.__init_hidden__(HIDDEN_SIZE).repeat(1, 1, 1)\n",
    "        encoder_output, encoding = propagate_encoder(encoder, encoded_question, 1)\n",
    "        decoder_input = torch.tensor([[0]])\n",
    "        decoder_state = encoding\n",
    "        final_decoding = []\n",
    "        while decoder_input.item() != 1:\n",
    "            decoder_output, decoder_state = decoder(decoder_input, decoder_state, encoder_output)\n",
    "            decoder_input = torch.argmax(decoder_output, dim = 2)\n",
    "            final_decoding += [decoder_input.item()]\n",
    "        print(decode_sentence(final_decoding, rev))\n",
    "        "
   ]
  },
  {
   "cell_type": "markdown",
   "metadata": {},
   "source": [
    "Training on the entire dataset is almost impossible without high spec GPU's so I will train on a subset of the dataset."
   ]
  },
  {
   "cell_type": "code",
   "execution_count": 63,
   "metadata": {},
   "outputs": [],
   "source": [
    "RAW_FILES = ['APARTMENT_FINDER.txt', 'CITY_INFO.txt', 'MUSIC_SUGGESTER.txt']\n",
    "FILENAMES = [*map(lambda r: f'data/dialogues/{r}', RAW_FILES)]"
   ]
  },
  {
   "cell_type": "code",
   "execution_count": 85,
   "metadata": {},
   "outputs": [],
   "source": [
    "def final_training_loop(iterations):\n",
    "    unencoded_pairs = FLATTEN(map(process_pairs, FILENAMES))\n",
    "    pairs, dictionary = create_dictionary_encode(unencoded_pairs)\n",
    "    encoder = Encoder(dictionary.__len__(), HIDDEN_SIZE)\n",
    "    decoder = AttentionDecoder(dictionary.__len__(), HIDDEN_SIZE)\n",
    "    encoder_optimizer = torch.optim.SGD(encoder.parameters(), LEARNING_RATE)\n",
    "    decoder_optimizer = torch.optim.SGD(decoder.parameters(), LEARNING_RATE)\n",
    "    loss_function = torch.nn.NLLLoss()\n",
    "    train_args = encoder, decoder, pairs, encoder_optimizer, decoder_optimizer, loss_function\n",
    "    loss = train_attention_parallel(iterations, *train_args)\n",
    "    return encoder, decoder, loss, dictionary"
   ]
  },
  {
   "cell_type": "code",
   "execution_count": null,
   "metadata": {},
   "outputs": [
    {
     "name": "stdout",
     "output_type": "stream",
     "text": [
      "Iteration 0, Loss: 6029.172572135925\n",
      "Iteration 1, Loss: 5205.395483970642\n",
      "Iteration 2, Loss: 5095.528295516968\n",
      "Iteration 3, Loss: 5036.085752487183\n",
      "Iteration 4, Loss: 4933.981091499329\n",
      "Iteration 5, Loss: 4889.173171043396\n"
     ]
    }
   ],
   "source": [
    "encoder, decoder, loss, dictionary = final_training_loop(100)\n",
    "save_models(encoder, decoder, 'models/encoder', 'models/decoder')"
   ]
  },
  {
   "cell_type": "code",
   "execution_count": 83,
   "metadata": {},
   "outputs": [
    {
     "data": {
      "text/plain": [
       "[<matplotlib.lines.Line2D at 0x7fd4b365df28>]"
      ]
     },
     "execution_count": 83,
     "metadata": {},
     "output_type": "execute_result"
    },
    {
     "data": {
      "image/png": "[encoded data removed]",
      "text/plain": [
       "<Figure size 432x288 with 1 Axes>"
      ]
     },
     "metadata": {},
     "output_type": "display_data"
    }
   ],
   "source": [
    "import matplotlib.pyplot as plt\n",
    "plt.style.use('Solarize_Light2')\n",
    "plt.xlabel('Iterations')\n",
    "plt.ylabel('Loss')\n",
    "plt.plot(range(loss.__len__()), loss)\n"
   ]
  },
  {
   "cell_type": "code",
   "execution_count": null,
   "metadata": {},
   "outputs": [],
   "source": [
    "parallel_evaluation_loop(encoder, decoder, dictionary`)"
   ]
  }
 ],
 "metadata": {
  "kernelspec": {
   "display_name": "Python 3",
   "language": "python",
   "name": "python3"
  },
  "language_info": {
   "codemirror_mode": {
    "name": "ipython",
    "version": 3
   },
   "file_extension": ".py",
   "mimetype": "text/x-python",
   "name": "python",
   "nbconvert_exporter": "python",
   "pygments_lexer": "ipython3",
   "version": "3.6.8"
  }
 },
 "nbformat": 4,
 "nbformat_minor": 2
}
